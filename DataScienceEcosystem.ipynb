{
 "cells": [
  {
   "cell_type": "markdown",
   "id": "bec2bb3b-1a41-464b-8d04-3d4bbc6e8d9f",
   "metadata": {},
   "source": [
    "# Data Science Tools and Ecosystem"
   ]
  },
  {
   "cell_type": "markdown",
   "id": "9fce520a-9775-4856-9d52-7c85e1ee154c",
   "metadata": {},
   "source": [
    "In this notebook, Data Science Tools and Ecosystem are summarized."
   ]
  },
  {
   "cell_type": "markdown",
   "id": "a03205ca-b7e8-49f0-a6a9-6ee59b2905e0",
   "metadata": {},
   "source": [
    "__Objectives:__"
   ]
  },
  {
   "cell_type": "markdown",
   "id": "094d43f2-7733-406f-93e3-6d9cb18c7ee2",
   "metadata": {},
   "source": [
    "* List popular languages for Data Science\n",
    "* List commonly libraries used by Data Scientists\n",
    "* Create a table\n",
    "* Create a simple arithmetic expressions"
   ]
  },
  {
   "cell_type": "markdown",
   "id": "b112539e-b65f-4669-9ec4-2e7b194ff8b1",
   "metadata": {},
   "source": [
    "Some of the popular languages that Data Scientists use are:"
   ]
  },
  {
   "cell_type": "markdown",
   "id": "bb340f68-4d1b-48f4-9c2b-494e8a04a2b2",
   "metadata": {},
   "source": [
    "1. Python\n",
    "2. R\n",
    "3. SQL\n",
    "4. C++\n",
    "5. Java"
   ]
  },
  {
   "cell_type": "markdown",
   "id": "d104a960-e24c-432c-9399-9459caf54edb",
   "metadata": {},
   "source": [
    "Some of the commonly used libraries used by Data Scientists include:"
   ]
  },
  {
   "cell_type": "markdown",
   "id": "0f7ea6a4-4ed4-49c2-b7f6-8095ae08b53f",
   "metadata": {},
   "source": [
    "1. Pandas\n",
    "2. Matplotilb\n",
    "3. Keras\n",
    "4. TensoFlow"
   ]
  },
  {
   "cell_type": "markdown",
   "id": "0bc1c484-b5b3-4a0c-85c5-108dc4199983",
   "metadata": {},
   "source": [
    "|  Data Science Tools |\n",
    "|---------------------|\n",
    "| JupyterLap |\n",
    "| Anaconda |\n",
    "| VisualStudio Code |"
   ]
  },
  {
   "cell_type": "markdown",
   "id": "76cb966e-1e50-4fe3-a0df-248529371845",
   "metadata": {
    "tags": []
   },
   "source": [
    "### Below are a few examples of evaluating arithmetic expressions in Python"
   ]
  },
  {
   "cell_type": "code",
   "execution_count": 4,
   "id": "c45953f1-13ae-411a-994e-cbb4234bbc7e",
   "metadata": {
    "tags": []
   },
   "outputs": [
    {
     "data": {
      "text/plain": [
       "17"
      ]
     },
     "execution_count": 4,
     "metadata": {},
     "output_type": "execute_result"
    }
   ],
   "source": [
    "(3*4)+5\n",
    "# This a simple arithmetic expression to multiply then add integers"
   ]
  },
  {
   "cell_type": "code",
   "execution_count": 5,
   "id": "70b45cad-2bce-4a1f-8a3b-c412178fcd6b",
   "metadata": {
    "tags": []
   },
   "outputs": [
    {
     "data": {
      "text/plain": [
       "3.3333333333333335"
      ]
     },
     "execution_count": 5,
     "metadata": {},
     "output_type": "execute_result"
    }
   ],
   "source": [
    "200/60\n",
    "# This will convert 200 minutes to hours by diving by 60"
   ]
  },
  {
   "cell_type": "markdown",
   "id": "e5b12ff8-45f7-465b-a649-8327717aa98c",
   "metadata": {},
   "source": [
    "## Author"
   ]
  },
  {
   "cell_type": "markdown",
   "id": "f1391567-2e3a-489e-b899-036e6da87347",
   "metadata": {},
   "source": [
    "Fawaz Abdulrahman Bin Rowaished"
   ]
  },
  {
   "cell_type": "code",
   "execution_count": null,
   "id": "5d645f05-f8a5-41f2-bf1a-91183be4dbf6",
   "metadata": {},
   "outputs": [],
   "source": []
  }
 ],
 "metadata": {
  "kernelspec": {
   "display_name": "Python",
   "language": "python",
   "name": "conda-env-python-py"
  },
  "language_info": {
   "codemirror_mode": {
    "name": "ipython",
    "version": 3
   },
   "file_extension": ".py",
   "mimetype": "text/x-python",
   "name": "python",
   "nbconvert_exporter": "python",
   "pygments_lexer": "ipython3",
   "version": "3.7.12"
  }
 },
 "nbformat": 4,
 "nbformat_minor": 5
}
